{
 "cells": [
  {
   "cell_type": "markdown",
   "id": "520c9eb2-82ca-47c7-9919-0a427aa6676f",
   "metadata": {},
   "source": [
    "# Importing packages"
   ]
  },
  {
   "cell_type": "code",
   "execution_count": null,
   "id": "0bd5faf0-802a-4abd-a66a-4bad8e13f394",
   "metadata": {},
   "outputs": [],
   "source": [
    "from datetime import datetime\n",
    "\n",
    "import matplotlib.pyplot as plt\n",
    "import numpy as np\n",
    "from gtsimulation.Algos import BunemanBorisSimulator\n",
    "from gtsimulation.Global import Regions, Units\n",
    "from gtsimulation.MagneticFields.Magnetosphere import Gauss\n",
    "from gtsimulation.Particle import Generators, Flux"
   ]
  },
  {
   "cell_type": "markdown",
   "id": "b3d68dbd-d19a-4219-bc1c-dd7a90f50883",
   "metadata": {},
   "source": [
    "# Simulation"
   ]
  },
  {
   "cell_type": "code",
   "execution_count": null,
   "id": "614d04c0-c118-4272-ac52-5b221fcd6523",
   "metadata": {},
   "outputs": [],
   "source": [
    "date = datetime(2008, 1, 1)\n",
    "region = Regions.Magnetosphere\n",
    "b_field = Gauss(model=\"IGRF\", version=13, model_type=\"core\", date=date)\n",
    "medium = None\n",
    "\n",
    "alpha = np.deg2rad(135)\n",
    "particle = Flux(\n",
    "    Spectrum=Generators.Spectrums.Monolines(energy=40 * Units.MeV),\n",
    "    Distribution=Generators.Distributions.UserInput(\n",
    "        R0=np.array([1.5 * Units.RE, 0, 0]),\n",
    "        V0=np.array([np.sin(alpha), 0, np.cos(alpha)])\n",
    "    ),\n",
    "    Names=\"proton\",\n",
    "    Nevents=1\n",
    ")\n",
    "\n",
    "use_decay = False\n",
    "nuclear_interaction = None\n",
    "\n",
    "dt = 1e-4  # time step [s]\n",
    "n_steps = 450000  # for a full revolution around the Earth\n",
    "break_conditions = None\n",
    "\n",
    "save = [1, {\"Coordinates\": True, \"Energy\": True}]\n",
    "output = None\n",
    "\n",
    "verbose = True"
   ]
  },
  {
   "cell_type": "code",
   "execution_count": null,
   "id": "aad2ca00-0cb3-4eb5-9e23-1ed87dc340e1",
   "metadata": {
    "scrolled": true
   },
   "outputs": [],
   "source": [
    "track_params = {\"Invariants\": True}\n",
    "\n",
    "simulator = BunemanBorisSimulator(\n",
    "    Bfield=b_field,\n",
    "    Region=region,\n",
    "    Medium=medium,\n",
    "    Particles=particle,\n",
    "    InteractNUC=nuclear_interaction,\n",
    "    UseDecay=use_decay,\n",
    "    Date=date,\n",
    "    Step=dt,\n",
    "    Num=n_steps,\n",
    "    BreakCondition=break_conditions,\n",
    "    Save=save,\n",
    "    Output=output,\n",
    "    Verbose=verbose,\n",
    "    TrackParams=track_params\n",
    ")\n",
    "\n",
    "track = simulator()[0][0]\n",
    "r = track[\"Track\"][\"Coordinates\"]"
   ]
  },
  {
   "cell_type": "code",
   "execution_count": null,
   "id": "c989dd90-1e17-461e-938d-0e07afee3bb7",
   "metadata": {},
   "outputs": [],
   "source": [
    "fig = plt.figure(figsize=(7, 6))\n",
    "ax = fig.add_subplot(projection=\"3d\")\n",
    "\n",
    "ax.plot(*r.T / Units.RE, label=\"Trajectory\")\n",
    "ax.scatter(*r[0].T / Units.RE, label=\"Initial position\", color=\"black\")\n",
    "ax.scatter(*r[-1].T / Units.RE, label=\"Final position\", color=\"red\")\n",
    "\n",
    "ax.set_xlim(-1.5, 1.5)\n",
    "ax.set_ylim(-1.5, 1.5)\n",
    "ax.set_zlim(-1.5, 1.5)\n",
    "ax.set_xlabel(\"X [RE]\")\n",
    "ax.set_ylabel(\"Y [RE]\")\n",
    "ax.set_zlabel(\"Z [RE]\")\n",
    "ax.set_aspect(\"equal\")\n",
    "ax.legend()\n",
    "\n",
    "plt.show()"
   ]
  },
  {
   "cell_type": "markdown",
   "id": "3a87921f-e2ef-45a1-94c3-3fdd4df20ed3",
   "metadata": {},
   "source": [
    "# Invariants"
   ]
  },
  {
   "cell_type": "code",
   "execution_count": null,
   "id": "69d9f198-311b-4e4c-82af-f2fd8a385d1d",
   "metadata": {},
   "outputs": [],
   "source": [
    "from pyproj import Transformer"
   ]
  },
  {
   "cell_type": "code",
   "execution_count": null,
   "id": "49974ffd-ba3f-4829-b720-0326b928acc0",
   "metadata": {},
   "outputs": [],
   "source": [
    "i_mirror = track[\"Additions\"][\"MirrorPoints\"][\"NumMirr\"]\n",
    "i_eq = ((i_mirror[:-1] + i_mirror[1:]) / 2).astype(int)"
   ]
  },
  {
   "cell_type": "code",
   "execution_count": null,
   "id": "72cc3a47-fea1-4d6a-beab-c8eced169fc8",
   "metadata": {},
   "outputs": [],
   "source": [
    "geo_to_lla = Transformer.from_crs(\n",
    "    {\"proj\": \"geocent\", \"ellps\": \"WGS84\", \"datum\": \"WGS84\"},\n",
    "    {\"proj\": \"latlong\", \"ellps\": \"WGS84\", \"datum\": \"WGS84\"}\n",
    ")\n",
    "lon_eq, _, _ = geo_to_lla.transform(*r[i_eq].T, radians=False)"
   ]
  },
  {
   "cell_type": "code",
   "execution_count": null,
   "id": "75ca5dd0-690b-424c-b650-5b2a0be9ae9e",
   "metadata": {},
   "outputs": [],
   "source": [
    "fig = plt.figure()\n",
    "ax = fig.subplots()\n",
    "\n",
    "ax.plot(lon_eq, \".-\")\n",
    "ax.set_xlabel(\"Number of mirror point\")\n",
    "ax.set_ylabel(\"Longitude [deg]\")\n",
    "\n",
    "plt.show()"
   ]
  },
  {
   "cell_type": "code",
   "execution_count": null,
   "id": "b59806f9-ffaa-4075-aa7d-5811c09f7a21",
   "metadata": {},
   "outputs": [],
   "source": [
    "n = len(lon_eq)\n",
    "area = (lon_eq < 10) & (np.arange(n) < n * 0.66)"
   ]
  },
  {
   "cell_type": "markdown",
   "id": "adab9305-9282-4feb-89b5-3581713ce4d2",
   "metadata": {},
   "source": [
    "## 1st invariant"
   ]
  },
  {
   "cell_type": "code",
   "execution_count": null,
   "id": "46d76985-712f-45b5-bea5-eed1d0c32c95",
   "metadata": {},
   "outputs": [],
   "source": [
    "I1 = track[\"Additions\"][\"Invariants\"][\"I1\"]\n",
    "i_step = np.arange(I1.size)"
   ]
  },
  {
   "cell_type": "code",
   "execution_count": null,
   "id": "7da64c44-7740-4542-ad40-85a149af5886",
   "metadata": {},
   "outputs": [],
   "source": [
    "i_start = i_mirror[:-1]\n",
    "i_end = i_mirror[1:]\n",
    "\n",
    "I1_eq = np.array([I1[s:e].mean() for s, e in zip(i_start, i_end)])\n",
    "I1_eq_mean = np.mean(I1_eq)"
   ]
  },
  {
   "cell_type": "code",
   "execution_count": null,
   "id": "b7aabace-e297-42f4-bc61-1bf1d6536a4c",
   "metadata": {},
   "outputs": [],
   "source": [
    "fig = plt.figure(figsize=(12, 4))\n",
    "ax = fig.subplots()\n",
    "\n",
    "for i in range(4):\n",
    "    ax.plot(i_step[i_mirror[i]:i_mirror[i + 1]], I1[i_mirror[i]:i_mirror[i + 1]])\n",
    "\n",
    "ax.set_xlabel(\"Step number\")\n",
    "ax.set_ylabel(\"I$_1$ [J / T]\")\n",
    "\n",
    "plt.show()"
   ]
  },
  {
   "cell_type": "code",
   "execution_count": null,
   "id": "96e80f15-f952-442b-8cc1-7dba21ece263",
   "metadata": {},
   "outputs": [],
   "source": [
    "lon, _, _ = geo_to_lla.transform(*r.T, radians=False)\n",
    "\n",
    "fig = plt.figure(figsize=(12, 4))\n",
    "ax = fig.subplots()\n",
    "\n",
    "ax.plot(lon, I1, \".\", markersize=0.1)\n",
    "\n",
    "ax.set_xlim([-180, 180])\n",
    "ax.set_xlabel(\"Longitude [deg]\")\n",
    "ax.set_ylabel(\"I$_1$ [J / T]\")\n",
    "\n",
    "ax.set_xticks(np.arange(-180, 181, 30))\n",
    "\n",
    "plt.show()"
   ]
  },
  {
   "cell_type": "code",
   "execution_count": null,
   "id": "aee9c083-108b-4c25-a533-30f669a2fd71",
   "metadata": {},
   "outputs": [],
   "source": [
    "band_width = I1_eq_mean * 0.0001\n",
    "band_lower = I1_eq_mean - band_width\n",
    "band_upper = I1_eq_mean + band_width\n",
    "\n",
    "fig = plt.figure(figsize=(12, 4))\n",
    "ax = fig.subplots()\n",
    "\n",
    "ax.plot(lon_eq[area], I1_eq[area], color=\"tab:blue\")\n",
    "ax.plot(lon_eq[~area], I1_eq[~area], color=\"tab:blue\")\n",
    "\n",
    "ax.axhline(y=I1_eq_mean, linestyle=\"--\", color=\"orangered\")\n",
    "ax.axhline(y=band_lower, linestyle=\":\", color=\"orangered\")\n",
    "ax.axhline(y=band_upper, linestyle=\":\", color=\"orangered\")\n",
    "\n",
    "ax.set_xlim([-180, 180])\n",
    "ax.set_ylim([band_lower - band_width * 0.2, band_upper + band_width * 0.2])\n",
    "ax.set_xlabel(\"Longitude [deg]\")\n",
    "ax.set_ylabel(\"I$_1$ [J / T]\")\n",
    "\n",
    "ax.set_xticks(np.arange(-180, 181, 30))\n",
    "\n",
    "plt.show()"
   ]
  },
  {
   "cell_type": "markdown",
   "id": "213d4796-8df8-47cc-9be0-7508bfc3178b",
   "metadata": {},
   "source": [
    "## 2nd invariant"
   ]
  },
  {
   "cell_type": "code",
   "execution_count": null,
   "id": "1d0e50ff-5080-4b4e-99a5-cf52e74f1b4c",
   "metadata": {},
   "outputs": [],
   "source": [
    "I2 = track[\"Additions\"][\"Invariants\"][\"I2\"]\n",
    "I2_mean = np.mean(I2)"
   ]
  },
  {
   "cell_type": "code",
   "execution_count": null,
   "id": "904ce600-34cb-4bf8-8d7e-ad73134cf83c",
   "metadata": {},
   "outputs": [],
   "source": [
    "band_width = I2_mean * 0.01\n",
    "band_lower = I2_mean - band_width\n",
    "band_upper = I2_mean + band_width\n",
    "\n",
    "fig = plt.figure(figsize=(12, 4))\n",
    "ax = fig.subplots()\n",
    "\n",
    "ax.plot(lon_eq[area], I2[area], color=\"tab:blue\")\n",
    "ax.plot(lon_eq[~area], I2[~area], color=\"tab:blue\")\n",
    "\n",
    "ax.axhline(y=I2_mean, linestyle=\"--\", color=\"orangered\")\n",
    "ax.axhline(y=band_lower, linestyle=\":\", color=\"orangered\")\n",
    "ax.axhline(y=band_upper, linestyle=\":\", color=\"orangered\")\n",
    "\n",
    "ax.set_xlim([-180, 180])\n",
    "ax.set_ylim([band_lower - band_width * 0.2, band_upper + band_width * 0.2])\n",
    "ax.set_xlabel(\"Longitude [deg]\")\n",
    "ax.set_ylabel(\"J$_2$ [m]\")\n",
    "\n",
    "ax.set_xticks(np.arange(-180, 181, 30))\n",
    "\n",
    "plt.show()"
   ]
  }
 ],
 "metadata": {
  "kernelspec": {
   "display_name": "Python 3 (ipykernel)",
   "language": "python",
   "name": "python3"
  },
  "language_info": {
   "codemirror_mode": {
    "name": "ipython",
    "version": 3
   },
   "file_extension": ".py",
   "mimetype": "text/x-python",
   "name": "python",
   "nbconvert_exporter": "python",
   "pygments_lexer": "ipython3",
   "version": "3.12.3"
  }
 },
 "nbformat": 4,
 "nbformat_minor": 5
}
