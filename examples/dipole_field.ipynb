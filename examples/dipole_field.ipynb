{
 "cells": [
  {
   "cell_type": "markdown",
   "id": "520c9eb2-82ca-47c7-9919-0a427aa6676f",
   "metadata": {},
   "source": [
    "# Importing packages"
   ]
  },
  {
   "cell_type": "code",
   "execution_count": null,
   "id": "0bd5faf0-802a-4abd-a66a-4bad8e13f394",
   "metadata": {},
   "outputs": [],
   "source": [
    "from datetime import datetime\n",
    "\n",
    "import matplotlib.pyplot as plt\n",
    "import numpy as np\n",
    "from gtsimulation.Algos import BunemanBorisSimulator, RungeKutta6Simulator\n",
    "from gtsimulation.Global import Regions, Constants, Units\n",
    "from gtsimulation.MagneticFields.Magnetosphere import Dipole\n",
    "from gtsimulation.Particle import Generators, Flux"
   ]
  },
  {
   "cell_type": "markdown",
   "id": "b3d68dbd-d19a-4219-bc1c-dd7a90f50883",
   "metadata": {},
   "source": [
    "# General GT settings"
   ]
  },
  {
   "cell_type": "code",
   "execution_count": null,
   "id": "614d04c0-c118-4272-ac52-5b221fcd6523",
   "metadata": {},
   "outputs": [],
   "source": [
    "date = datetime(2008, 1, 1)\n",
    "region = Regions.Magnetosphere\n",
    "b_field = Dipole(date=date)\n",
    "medium = None\n",
    "\n",
    "particle = Flux(\n",
    "    Spectrum=Generators.Spectrums.Monolines(energy=10 * Units.MeV),\n",
    "    Distribution=Generators.Distributions.UserInput(\n",
    "        R0=np.array([5 * Units.RE, 0, 0]),\n",
    "        V0=[0, 1, 0]\n",
    "    ),\n",
    "    Names=\"proton\",\n",
    "    Nevents=1\n",
    ")\n",
    "\n",
    "use_decay = False\n",
    "nuclear_interaction = None\n",
    "\n",
    "total_time = 10  # total time [s]\n",
    "n_steps = 20000\n",
    "dt = total_time / n_steps\n",
    "break_conditions = None\n",
    "\n",
    "save = [1, {\"Coordinates\": True, \"Velocities\": True, \"Energy\": True, \"Bfield\": True}]\n",
    "output = None\n",
    "\n",
    "verbose = True"
   ]
  },
  {
   "cell_type": "markdown",
   "id": "89b62e3c-a4f9-41d0-8ed4-02257d952046",
   "metadata": {},
   "source": [
    "# Buneman–Boris scheme"
   ]
  },
  {
   "cell_type": "code",
   "execution_count": null,
   "id": "aad2ca00-0cb3-4eb5-9e23-1ed87dc340e1",
   "metadata": {
    "scrolled": true
   },
   "outputs": [],
   "source": [
    "simulator_BB = BunemanBorisSimulator(\n",
    "    Bfield=b_field,\n",
    "    Region=region,\n",
    "    Medium=medium,\n",
    "    Particles=particle,\n",
    "    InteractNUC=nuclear_interaction,\n",
    "    UseDecay=use_decay,\n",
    "    Date=date,\n",
    "    Step=dt,\n",
    "    Num=n_steps,\n",
    "    BreakCondition=break_conditions,\n",
    "    Save=save,\n",
    "    Output=output,\n",
    "    Verbose=verbose\n",
    ")\n",
    "\n",
    "track_BB = simulator_BB()[0][0]\n",
    "r_BB = track_BB[\"Track\"][\"Coordinates\"]\n",
    "v_BB = track_BB[\"Track\"][\"Velocities\"]\n",
    "T_BB = track_BB[\"Track\"][\"Energy\"]\n",
    "B_BB = track_BB[\"Track\"][\"Bfield\"]"
   ]
  },
  {
   "cell_type": "markdown",
   "id": "faff3d08-60d8-43c6-80d4-e251e1ff1187",
   "metadata": {},
   "source": [
    "# Runge–Kutta 6th scheme"
   ]
  },
  {
   "cell_type": "code",
   "execution_count": null,
   "id": "24d74a9f-cf49-490b-9d38-8387f70641b8",
   "metadata": {
    "scrolled": true
   },
   "outputs": [],
   "source": [
    "simulator_RK6 = RungeKutta6Simulator(\n",
    "    Bfield=b_field,\n",
    "    Region=region,\n",
    "    Medium=medium,\n",
    "    Particles=particle,\n",
    "    InteractNUC=nuclear_interaction,\n",
    "    UseDecay=use_decay,\n",
    "    Date=date,\n",
    "    Step=dt,\n",
    "    Num=n_steps,\n",
    "    BreakCondition=break_conditions,\n",
    "    Save=save,\n",
    "    Output=output,\n",
    "    Verbose=verbose\n",
    ")\n",
    "\n",
    "track_RK6 = simulator_RK6()[0][0]\n",
    "r_RK6 = track_RK6[\"Track\"][\"Coordinates\"]\n",
    "v_RK6 = track_RK6[\"Track\"][\"Velocities\"]\n",
    "T_RK6 = track_RK6[\"Track\"][\"Energy\"]\n",
    "B_RK6 = track_RK6[\"Track\"][\"Bfield\"]"
   ]
  },
  {
   "cell_type": "markdown",
   "id": "ad8f4a2b-8268-4efc-9372-d9b6ecf0a59d",
   "metadata": {},
   "source": [
    "# Comparison of trajectories"
   ]
  },
  {
   "cell_type": "code",
   "execution_count": null,
   "id": "198405e9-498c-49fa-9aec-79c647cb1dbb",
   "metadata": {},
   "outputs": [],
   "source": [
    "fig = plt.figure(figsize=(6, 6))\n",
    "ax = fig.subplots()\n",
    "\n",
    "ax.scatter(5, 0, label=\"Initial position\", color=\"black\")\n",
    "ax.plot(*r_BB.T[:2] / Units.RE, label=\"BB\")\n",
    "ax.plot(*r_RK6.T[:2] / Units.RE, label=\"RK6\")\n",
    "\n",
    "ax.set_xlim(0, 7)\n",
    "ax.set_ylim(-6, 1)\n",
    "ax.set_xlabel(\"X [RE]\")\n",
    "ax.set_ylabel(\"Y [RE]\")\n",
    "ax.set_aspect(\"equal\")\n",
    "ax.grid(True, linestyle=\"--\", alpha=0.8)\n",
    "ax.legend()\n",
    "\n",
    "plt.show()"
   ]
  },
  {
   "cell_type": "markdown",
   "id": "3481f768-4481-469a-a81e-ffb09d405ec0",
   "metadata": {},
   "source": [
    "# Comparison of Larmor radii"
   ]
  },
  {
   "cell_type": "code",
   "execution_count": null,
   "id": "30834987-3e82-4b12-bc09-979bd9b52259",
   "metadata": {},
   "outputs": [],
   "source": [
    "from gtsimulation.MagneticFields.Magnetosphere.Additions import GetLarmorRadius"
   ]
  },
  {
   "cell_type": "code",
   "execution_count": null,
   "id": "5445e53c-23ef-475f-b63c-634b0bfa5ec5",
   "metadata": {},
   "outputs": [],
   "source": [
    "M = track_BB[\"Particle\"][\"M\"]\n",
    "Z = track_BB[\"Particle\"][\"Ze\"]\n",
    "\n",
    "B_unit_BB = B_BB / np.linalg.norm(B_BB, axis=1)[:, None]\n",
    "v_dot_B_BB = np.sum(v_BB * B_unit_BB, axis=1)\n",
    "pitch_BB = np.rad2deg(np.arccos(v_dot_B_BB))  # clearly get a pitch angle of 90 degrees\n",
    "LR_BB = GetLarmorRadius(T_BB, np.linalg.norm(B_BB, axis=1), Z, M * Units.MeV2kg, pitch_BB)\n",
    "\n",
    "B_unit_RK6 = B_RK6 / np.linalg.norm(B_RK6, axis=1)[:, None]\n",
    "v_dot_B_RK6 = np.sum(v_RK6 * B_unit_RK6, axis=1)\n",
    "pitch_RK6 = np.rad2deg(np.arccos(v_dot_B_RK6))  # clearly get a pitch angle of 90 degrees\n",
    "LR_RK6 = GetLarmorRadius(T_RK6, np.linalg.norm(B_RK6, axis=1), Z, M * Units.MeV2kg, pitch_RK6)"
   ]
  },
  {
   "cell_type": "code",
   "execution_count": null,
   "id": "503a3480-2e73-47a3-bab8-e337156e7191",
   "metadata": {},
   "outputs": [],
   "source": [
    "fig = plt.figure(figsize=(12, 4))\n",
    "ax = fig.subplots()\n",
    "\n",
    "ax.plot(LR_BB / Units.RE, label=\"BB\")\n",
    "ax.plot(LR_RK6 / Units.RE, label=\"RK6\")\n",
    "\n",
    "ax.axhline(y=np.min(LR_BB / Units.RE), linestyle=\":\")\n",
    "ax.axhline(y=np.max(LR_BB / Units.RE), linestyle=\":\")\n",
    "\n",
    "ax.set_xlabel(\"Number of steps\")\n",
    "ax.set_ylabel(\"R$_L$ [RE]\")\n",
    "ax.legend(loc=\"center left\")\n",
    "\n",
    "plt.show()"
   ]
  }
 ],
 "metadata": {
  "kernelspec": {
   "display_name": "Python 3 (ipykernel)",
   "language": "python",
   "name": "python3"
  },
  "language_info": {
   "codemirror_mode": {
    "name": "ipython",
    "version": 3
   },
   "file_extension": ".py",
   "mimetype": "text/x-python",
   "name": "python",
   "nbconvert_exporter": "python",
   "pygments_lexer": "ipython3",
   "version": "3.12.3"
  }
 },
 "nbformat": 4,
 "nbformat_minor": 5
}
