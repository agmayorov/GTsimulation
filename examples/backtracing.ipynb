{
 "cells": [
  {
   "cell_type": "markdown",
   "id": "520c9eb2-82ca-47c7-9919-0a427aa6676f",
   "metadata": {},
   "source": [
    "# Importing packages"
   ]
  },
  {
   "cell_type": "code",
   "execution_count": null,
   "id": "0bd5faf0-802a-4abd-a66a-4bad8e13f394",
   "metadata": {},
   "outputs": [],
   "source": [
    "from datetime import datetime\n",
    "\n",
    "import matplotlib.pyplot as plt\n",
    "import numpy as np\n",
    "from gtsimulation.Algos import BunemanBorisSimulator\n",
    "from gtsimulation.Global import Regions, Constants, Units\n",
    "from gtsimulation.MagneticFields import Uniform\n",
    "from gtsimulation.Particle import Generators, Flux"
   ]
  },
  {
   "cell_type": "markdown",
   "id": "b3d68dbd-d19a-4219-bc1c-dd7a90f50883",
   "metadata": {},
   "source": [
    "# General GT settings"
   ]
  },
  {
   "cell_type": "code",
   "execution_count": null,
   "id": "80671390-dda2-4e9d-8799-a7e8c55dfab4",
   "metadata": {},
   "outputs": [],
   "source": [
    "B = 0.1  # magnetic field [T]\n",
    "T = 100  # energy [MeV]\n",
    "v_0 = np.array([0, -5, 1]) / np.sqrt(26)  # initial unit velocity"
   ]
  },
  {
   "cell_type": "code",
   "execution_count": null,
   "id": "614d04c0-c118-4272-ac52-5b221fcd6523",
   "metadata": {},
   "outputs": [],
   "source": [
    "date = datetime(2008, 1, 1)\n",
    "region = Regions.Undefined\n",
    "b_field = Uniform(B=np.array([0, 0, B * 1e9]))\n",
    "medium = None\n",
    "\n",
    "use_decay = False\n",
    "nuclear_interaction = None\n",
    "\n",
    "dt = 1e-9  # time step [s]\n",
    "n_steps = 3000\n",
    "break_conditions = None\n",
    "\n",
    "save = [1, {\"Coordinates\": True, \"Velocities\": True}]\n",
    "output = None\n",
    "\n",
    "verbose = True"
   ]
  },
  {
   "cell_type": "markdown",
   "id": "7df2e599-67db-4d51-aec5-7f074b751f6b",
   "metadata": {},
   "source": [
    "# Forward tracing"
   ]
  },
  {
   "cell_type": "code",
   "execution_count": null,
   "id": "2625f43e-5ff6-418c-a5c8-ac5a4689241c",
   "metadata": {},
   "outputs": [],
   "source": [
    "particle_forward = Flux(\n",
    "    Spectrum=Generators.Spectrums.Monolines(energy=T * Units.MeV),\n",
    "    Distribution=Generators.Distributions.UserInput(\n",
    "        R0=[14.542, 0, 0],\n",
    "        V0=v_0\n",
    "    ),\n",
    "    Names=\"proton\",\n",
    "    Nevents=1\n",
    ")"
   ]
  },
  {
   "cell_type": "code",
   "execution_count": null,
   "id": "141ede52-fd64-46be-85c9-507a5eb88068",
   "metadata": {
    "scrolled": true
   },
   "outputs": [],
   "source": [
    "simulator_forward = BunemanBorisSimulator(\n",
    "    Bfield=b_field,\n",
    "    Region=region,\n",
    "    Medium=medium,\n",
    "    Particles=particle_forward,\n",
    "    InteractNUC=nuclear_interaction,\n",
    "    UseDecay=use_decay,\n",
    "    Date=date,\n",
    "    Step=dt,\n",
    "    Num=n_steps,\n",
    "    ForwardTrck=1,\n",
    "    BreakCondition=break_conditions,\n",
    "    Save=save,\n",
    "    Output=output,\n",
    "    Verbose=verbose\n",
    ")\n",
    "track_forward = simulator_forward()[0][0]"
   ]
  },
  {
   "cell_type": "code",
   "execution_count": null,
   "id": "47369432-480c-426c-a5e2-199bd852a0f3",
   "metadata": {},
   "outputs": [],
   "source": [
    "r_forward = track_forward[\"Track\"][\"Coordinates\"]\n",
    "v_forward = track_forward[\"Track\"][\"Velocities\"]"
   ]
  },
  {
   "cell_type": "markdown",
   "id": "faff3d08-60d8-43c6-80d4-e251e1ff1187",
   "metadata": {},
   "source": [
    "# Backward tracing"
   ]
  },
  {
   "cell_type": "code",
   "execution_count": null,
   "id": "eeb322cb-e715-4620-a1f8-1bd669ac2887",
   "metadata": {},
   "outputs": [],
   "source": [
    "particle_backward = Flux(\n",
    "    Spectrum=Generators.Spectrums.Monolines(energy=T * Units.MeV),\n",
    "    Distribution=Generators.Distributions.UserInput(\n",
    "        R0=r_forward[-1, :],\n",
    "        V0=v_forward[-1, :]\n",
    "    ),\n",
    "    Names=\"proton\",\n",
    "    Nevents=1\n",
    ")"
   ]
  },
  {
   "cell_type": "code",
   "execution_count": null,
   "id": "a6beb1ea-a1a7-4a20-b289-011ca288ece0",
   "metadata": {
    "scrolled": true
   },
   "outputs": [],
   "source": [
    "simulator_backward = BunemanBorisSimulator(\n",
    "    Bfield=b_field,\n",
    "    Region=region,\n",
    "    Medium=medium,\n",
    "    Particles=particle_backward,\n",
    "    InteractNUC=nuclear_interaction,\n",
    "    UseDecay=use_decay,\n",
    "    Date=date,\n",
    "    Step=dt,\n",
    "    Num=n_steps,\n",
    "    ForwardTrck=-1,\n",
    "    BreakCondition=break_conditions,\n",
    "    Save=save,\n",
    "    Output=output,\n",
    "    Verbose=verbose\n",
    ")\n",
    "track_backward = simulator_backward()[0][0]"
   ]
  },
  {
   "cell_type": "code",
   "execution_count": null,
   "id": "7645f7fa-a075-4d9a-97c9-0c2bd5e390e3",
   "metadata": {},
   "outputs": [],
   "source": [
    "r_backward = track_backward[\"Track\"][\"Coordinates\"]"
   ]
  },
  {
   "cell_type": "markdown",
   "id": "02bd2ef7-6e03-4e3f-800d-d03c35239a4b",
   "metadata": {},
   "source": [
    "# Analytical solution"
   ]
  },
  {
   "cell_type": "code",
   "execution_count": null,
   "id": "90c83ca2-7ee8-4d06-a893-dbe19b8bf053",
   "metadata": {},
   "outputs": [],
   "source": [
    "m_p = 938.27  # proton mass [MeV/c²]\n",
    "gamma = (m_p + T) / m_p\n",
    "omega = Constants.e * B / (gamma * m_p * Units.MeV2kg)  # cyclotron frequency [Hz]\n",
    "\n",
    "_, v_y, v_z = Constants.c * np.sqrt(1 - 1 / gamma ** 2) * v_0\n",
    "r_larmor = gamma * m_p * Units.MeV2kg * np.abs(v_y) / (Constants.e * B)\n",
    "\n",
    "t = np.linspace(0, dt * n_steps, n_steps)\n",
    "x = r_larmor * np.cos(omega * t)\n",
    "y = -r_larmor * np.sin(omega * t)\n",
    "z = v_z * t\n",
    "\n",
    "r_analytic = np.stack((x, y, z), axis=1)"
   ]
  },
  {
   "cell_type": "markdown",
   "id": "ad8f4a2b-8268-4efc-9372-d9b6ecf0a59d",
   "metadata": {},
   "source": [
    "# Comparison"
   ]
  },
  {
   "cell_type": "code",
   "execution_count": null,
   "id": "14ddb5a7-3870-4459-81f2-71bc1534b5f1",
   "metadata": {},
   "outputs": [],
   "source": [
    "fig = plt.figure(figsize=(12, 6))\n",
    "\n",
    "ax3d = fig.add_subplot(1, 2, 1, projection='3d')\n",
    "\n",
    "ax3d.plot(*r_forward.T, label=\"Forward\")\n",
    "ax3d.plot(*r_backward.T, label=\"Backward\", linestyle=\"--\")\n",
    "ax3d.plot(*r_analytic.T, label=\"Analytic\", linestyle=\":\")\n",
    "\n",
    "ax3d.scatter(*r_forward[0], label='Proton initial position')\n",
    "ax3d.scatter(*r_backward[0], label=\"Antiproton initial position\")\n",
    "\n",
    "ax3d.set_xlabel(\"X [m]\")\n",
    "ax3d.set_ylabel(\"Y [m]\")\n",
    "ax3d.set_zlabel(\"Z [m]\")\n",
    "ax3d.set_aspect('equalxy')\n",
    "ax3d.legend()\n",
    "\n",
    "ax2d = fig.add_subplot(1, 2, 2)\n",
    "\n",
    "ax2d.plot(*r_forward.T[:2], label=\"Forward\")\n",
    "ax2d.plot(*r_backward.T[:2], label=\"Backward\", linestyle=\"--\")\n",
    "ax2d.plot(*r_analytic.T[:2], label=\"Analytic\", linestyle=\":\")\n",
    "\n",
    "ax2d.scatter(*r_forward[0][:2])\n",
    "ax2d.scatter(*r_backward[0][:2])\n",
    "\n",
    "ax2d.set_xlabel(\"X [m]\")\n",
    "ax2d.set_ylabel(\"Y [m]\")\n",
    "ax2d.set_aspect('equal')\n",
    "ax2d.grid(True, linestyle='--', alpha=0.8)\n",
    "\n",
    "fig.subplots_adjust(wspace=0.3)\n",
    "\n",
    "plt.show()"
   ]
  },
  {
   "cell_type": "markdown",
   "id": "b2e56b31-449c-4d33-b760-16bee8b319cb",
   "metadata": {},
   "source": [
    "# Deviation from the analytical solution"
   ]
  },
  {
   "cell_type": "code",
   "execution_count": null,
   "id": "268bdc9d-eec1-4eb6-8bda-3081d03628ca",
   "metadata": {},
   "outputs": [],
   "source": [
    "# Forward trajectory\n",
    "dot_forward = np.sum(r_forward * r_analytic, axis=1)\n",
    "norm_forward = np.linalg.norm(r_forward, axis=1) * np.linalg.norm(r_analytic, axis=1)\n",
    "phase_forward = np.rad2deg(np.arccos(dot_forward / norm_forward))\n",
    "\n",
    "# Backward trajectory\n",
    "dot_backward = np.sum(r_backward * r_analytic[::-1], axis=1)\n",
    "norm_backward = np.linalg.norm(r_backward, axis=1) * np.linalg.norm(r_analytic[::-1], axis=1)\n",
    "phase_backward = np.rad2deg(np.arccos(dot_backward / norm_backward))"
   ]
  },
  {
   "cell_type": "code",
   "execution_count": null,
   "id": "ef2e5de6-3994-4d8b-a725-eb0795518fed",
   "metadata": {},
   "outputs": [],
   "source": [
    "fig = plt.figure()\n",
    "ax = fig.subplots()\n",
    "\n",
    "ax.plot(phase_forward, label=\"Forward\")\n",
    "ax.plot(phase_backward, label=\"Backward\")\n",
    "\n",
    "ax.set_xlabel(\"Number of steps\")\n",
    "ax.set_ylabel(r\"$\\theta$ [deg]\")\n",
    "ax.legend()\n",
    "\n",
    "plt.show()"
   ]
  }
 ],
 "metadata": {
  "kernelspec": {
   "display_name": "Python 3 (ipykernel)",
   "language": "python",
   "name": "python3"
  },
  "language_info": {
   "codemirror_mode": {
    "name": "ipython",
    "version": 3
   },
   "file_extension": ".py",
   "mimetype": "text/x-python",
   "name": "python",
   "nbconvert_exporter": "python",
   "pygments_lexer": "ipython3",
   "version": "3.12.3"
  }
 },
 "nbformat": 4,
 "nbformat_minor": 5
}
